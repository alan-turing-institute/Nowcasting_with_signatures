{
 "cells": [
  {
   "cell_type": "markdown",
   "metadata": {},
   "source": [
    "## Looking at the differences in coefficients"
   ]
  },
  {
   "cell_type": "code",
   "execution_count": 1,
   "metadata": {},
   "outputs": [],
   "source": [
    "import matplotlib as mpl\n",
    "from pathlib import Path\n",
    "import yaml\n",
    "\n",
    "plot_config_path = '../src/plot_configs.yaml'\n",
    "with open(plot_config_path, 'r') as stream:\n",
    "    rc_fonts = yaml.safe_load(stream)\n",
    "rc_fonts['figure.figsize'] = tuple(rc_fonts['figure.figsize'])\n",
    "mpl.rcParams.update(rc_fonts)"
   ]
  },
  {
   "cell_type": "code",
   "execution_count": 2,
   "metadata": {},
   "outputs": [],
   "source": [
    "import numpy as np\n",
    "import pandas as pd\n",
    "import matplotlib.pyplot as plt\n",
    "import esig\n",
    "esig.set_backend(\"iisignature\")\n",
    "import pickle\n",
    "import itertools"
   ]
  },
  {
   "cell_type": "code",
   "execution_count": 3,
   "metadata": {
    "tags": []
   },
   "outputs": [],
   "source": [
    "def twolists(l1, l2):\n",
    "    return [x for x in itertools.chain.from_iterable(itertools.zip_longest(l1, l2)) if x is not None]\n",
    "\n",
    "\n",
    "def find_true_coeffs(var_level, t_level=None, A=-2):\n",
    "    \n",
    "    if not t_level:\n",
    "        t_level = var_level\n",
    "    \n",
    "    time_coeffs = [(A)**(i) for i in range(1, t_level+1)]\n",
    "    var_coeffs = [(A)**(i-1) for i in range(1, var_level+1)]\n",
    "    \n",
    "    coeffs = twolists(time_coeffs, var_coeffs)\n",
    "    coeffs.insert(0, 1)\n",
    "    \n",
    "    return coeffs\n",
    "\n",
    "def find_R(F, var, H):\n",
    "    return(F+np.sqrt(F**2+var*H**2))/(H**2)\n",
    "\n",
    "def find_A(F, H, R):\n",
    "    return F-R*H**2"
   ]
  },
  {
   "cell_type": "code",
   "execution_count": 4,
   "metadata": {},
   "outputs": [],
   "source": [
    "F = -1\n",
    "var = 2\n",
    "H = 10\n",
    "R = find_R(F, var, H)\n",
    "A = find_A(F, H, R)"
   ]
  },
  {
   "cell_type": "markdown",
   "metadata": {},
   "source": [
    "## Full model"
   ]
  },
  {
   "cell_type": "markdown",
   "metadata": {},
   "source": [
    "We start by looking at the differences in coefficients when the truncation level is set to 6 "
   ]
  },
  {
   "cell_type": "code",
   "execution_count": 5,
   "metadata": {},
   "outputs": [],
   "source": [
    "true_coeffs = find_true_coeffs(var_level=6, t_level=6, A=A)"
   ]
  },
  {
   "cell_type": "code",
   "execution_count": 6,
   "metadata": {},
   "outputs": [],
   "source": [
    "output_dir = '../results/simulation/'\n",
    "loaded_model = pickle.load(open(f'{output_dir}/signature_model.pkl', 'rb'))"
   ]
  },
  {
   "cell_type": "code",
   "execution_count": 7,
   "metadata": {},
   "outputs": [],
   "source": [
    "df_sigs = pd.read_csv(output_dir+'/sig_data.csv')\n",
    "data_matrix = df_sigs.to_numpy()"
   ]
  },
  {
   "cell_type": "code",
   "execution_count": 8,
   "metadata": {},
   "outputs": [
    {
     "data": {
      "image/png": "[encoded data removed]",
      "text/plain": [
       "<Figure size 1000x650 with 1 Axes>"
      ]
     },
     "metadata": {},
     "output_type": "display_data"
    }
   ],
   "source": [
    "plt.bar(np.arange(len(true_coeffs))[:], (loaded_model.coef_-true_coeffs)[:])\n",
    "plt.savefig('coeff_diff.pdf', bbox_inches='tight')"
   ]
  },
  {
   "cell_type": "markdown",
   "metadata": {},
   "source": [
    "We check the eigenvalues of the data matrix"
   ]
  },
  {
   "cell_type": "code",
   "execution_count": 9,
   "metadata": {},
   "outputs": [
    {
     "data": {
      "text/plain": [
       "array([1.32624096e+04, 2.31138024e+02, 1.34187874e+01, 1.43917687e+00,\n",
       "       6.68248057e-01, 9.37473599e-03, 6.70884859e-03, 5.19041517e-05,\n",
       "       2.02198884e-05, 1.65791470e-07, 3.48531399e-08, 3.31440365e-10,\n",
       "       3.44748241e-13])"
      ]
     },
     "execution_count": 9,
     "metadata": {},
     "output_type": "execute_result"
    }
   ],
   "source": [
    "np.linalg.eig(data_matrix.T@data_matrix)[0]"
   ]
  },
  {
   "cell_type": "markdown",
   "metadata": {},
   "source": [
    "## Reducing the signature levels"
   ]
  },
  {
   "cell_type": "markdown",
   "metadata": {},
   "source": [
    "We next look at the differences in coefficients when we reduce the truncation level to 3 in the observation and to 1 for the time."
   ]
  },
  {
   "cell_type": "code",
   "execution_count": 10,
   "metadata": {},
   "outputs": [],
   "source": [
    "import sys\n",
    "sys.path.append('../src')\n",
    "from simulation_main import main"
   ]
  },
  {
   "cell_type": "code",
   "execution_count": null,
   "metadata": {},
   "outputs": [],
   "source": [
    "! python src/simulation_rerun.py"
   ]
  },
  {
   "cell_type": "code",
   "execution_count": 10,
   "metadata": {},
   "outputs": [],
   "source": [
    "true_coeffs = find_true_coeffs(var_level=3, t_level=1, A=A)"
   ]
  },
  {
   "cell_type": "code",
   "execution_count": 11,
   "metadata": {},
   "outputs": [],
   "source": [
    "output_dir = '../results/simulation_reduce/'\n",
    "loaded_model = pickle.load(open(f'{output_dir}/signature_model.pkl', 'rb'))"
   ]
  },
  {
   "cell_type": "code",
   "execution_count": 12,
   "metadata": {},
   "outputs": [],
   "source": [
    "df_sigs = pd.read_csv(output_dir+'/sig_data.csv')\n",
    "data_matrix = df_sigs.to_numpy()"
   ]
  },
  {
   "cell_type": "code",
   "execution_count": 13,
   "metadata": {},
   "outputs": [
    {
     "data": {
      "image/png": "[encoded data removed]",
      "text/plain": [
       "<Figure size 1000x650 with 1 Axes>"
      ]
     },
     "metadata": {},
     "output_type": "display_data"
    }
   ],
   "source": [
    "plt.bar(np.arange(len(true_coeffs))[:], (loaded_model.coef_-true_coeffs)[:])\n",
    "plt.savefig('coeff_diff2.pdf', bbox_inches='tight')"
   ]
  },
  {
   "cell_type": "markdown",
   "metadata": {},
   "source": [
    "We check the eigenvalues of the data matrix"
   ]
  },
  {
   "cell_type": "code",
   "execution_count": 14,
   "metadata": {},
   "outputs": [
    {
     "data": {
      "text/plain": [
       "array([1.32599482e+04, 2.29265374e+02, 1.29948520e+01, 5.12696729e-01,\n",
       "       1.21304409e+00])"
      ]
     },
     "execution_count": 14,
     "metadata": {},
     "output_type": "execute_result"
    }
   ],
   "source": [
    "np.linalg.eig(data_matrix.T@data_matrix)[0]"
   ]
  },
  {
   "cell_type": "code",
   "execution_count": null,
   "metadata": {},
   "outputs": [],
   "source": []
  }
 ],
 "metadata": {
  "kernelspec": {
   "display_name": "nowcasting",
   "language": "python",
   "name": "nowcasting"
  },
  "language_info": {
   "codemirror_mode": {
    "name": "ipython",
    "version": 3
   },
   "file_extension": ".py",
   "mimetype": "text/x-python",
   "name": "python",
   "nbconvert_exporter": "python",
   "pygments_lexer": "ipython3",
   "version": "3.8.10"
  }
 },
 "nbformat": 4,
 "nbformat_minor": 4
}
